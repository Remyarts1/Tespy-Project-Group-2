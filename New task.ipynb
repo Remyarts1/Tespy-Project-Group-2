{
 "cells": [
  {
   "cell_type": "code",
   "execution_count": 31,
   "id": "af64eb8b",
   "metadata": {},
   "outputs": [],
   "source": [
    "from tespy.components import (Sink, Source, Compressor,CombustionChamber,\n",
    "WaterElectrolyzer)\n",
    "from tespy.connections import Connection\n",
    "from tespy.networks import Network\n",
    "import os"
   ]
  },
  {
   "cell_type": "code",
   "execution_count": 32,
   "id": "8dd18dd8",
   "metadata": {},
   "outputs": [],
   "source": [
    "nw = Network(T_unit='C', p_unit='bar', v_unit='l / s', iterinfo=False)"
   ]
  },
  {
   "cell_type": "code",
   "execution_count": 33,
   "id": "2d44558f",
   "metadata": {},
   "outputs": [],
   "source": [
    "fw = Source('feed water')\n",
    "oxy = Sink('oxygen sink')\n",
    "hydro = Sink('hydrogen sink')\n",
    "cw_cold = Source('cooling water source')\n",
    "cw_hot = Sink('cooling water sink')\n",
    "air_source = Source('air source')\n",
    "compressed_air = Sink('compressed air sink')\n",
    "cc = CombustionChamber('combustion chamber')\n",
    "cc_out = Sink('combustion chamber out')"
   ]
  },
  {
   "cell_type": "code",
   "execution_count": 34,
   "id": "d18ff4a9",
   "metadata": {},
   "outputs": [],
   "source": [
    "comp = Compressor('compressor', eta_s=0.9)\n",
    "el = WaterElectrolyzer('electrolyzer')\n",
    "air_comp = Compressor('air compressor')"
   ]
  },
  {
   "cell_type": "code",
   "execution_count": 35,
   "id": "7a92dc51",
   "metadata": {},
   "outputs": [],
   "source": [
    "fw_el = Connection(fw, 'out1', el, 'in2')\n",
    "el_o = Connection(el, 'out2', oxy, 'in1')\n",
    "el_cmp = Connection(el, 'out3', comp, 'in1')\n",
    "cmp_h = Connection(comp, 'out1', hydro, 'in1')\n",
    "cw_el = Connection(cw_cold, 'out1', el, 'in1')\n",
    "el_cw = Connection(el, 'out1', cw_hot, 'in1')\n",
    "\n",
    "\n",
    "\n",
    "nw.add_conns(fw_el, el_o, el_cmp, cmp_h, cw_el, el_cw)"
   ]
  },
  {
   "cell_type": "code",
   "execution_count": 36,
   "id": "ef058b24",
   "metadata": {},
   "outputs": [],
   "source": [
    "fw_el.set_attr(p=10, T=15)\n",
    "cw_el.set_attr(p=5, T=15, fluid={'H2O': 1})\n",
    "el_cw.set_attr(T=45)\n",
    "cmp_h.set_attr(p=25)\n",
    "el_cmp.set_attr(v=100, T=50)\n",
    "el.set_attr(eta=0.8, pr=0.99, design=['eta', 'pr'],\n",
    "offdesign=['eta_char', 'zeta'])\n",
    "comp.set_attr(eta_s=0.85)"
   ]
  },
  {
   "cell_type": "code",
   "execution_count": 37,
   "id": "3d1cbfb3",
   "metadata": {},
   "outputs": [
    {
     "name": "stdout",
     "output_type": "stream",
     "text": [
      "\n",
      "##### RESULTS (Compressor) #####\n",
      "+------------+----------+----------+-----------+----------+--------+\n",
      "|            |        P |       pr |        dp |    eta_s |   igva |\n",
      "|------------+----------+----------+-----------+----------+--------|\n",
      "| compressor | 1.24e+05 | 2.50e+00 | -1.50e+01 | \u001b[94m8.50e-01\u001b[0m |    nan |\n",
      "+------------+----------+----------+-----------+----------+--------+\n",
      "##### RESULTS (WaterElectrolyzer) #####\n",
      "+--------------+----------+-----------+----------+----------+----------+----------+----------+\n",
      "|              |        P |         Q |       pr |       dp |     zeta |      eta |        e |\n",
      "|--------------+----------+-----------+----------+----------+----------+----------+----------|\n",
      "| electrolyzer | \u001b[32m1.32e+07\u001b[0m | -2.58e+06 | \u001b[94m9.90e-01\u001b[0m | 5.00e-02 | 1.45e+04 | \u001b[94m8.00e-01\u001b[0m | 1.77e+08 |\n",
      "+--------------+----------+-----------+----------+----------+----------+----------+----------+\n",
      "##### RESULTS (Connection) #####\n",
      "+--------------------------------------------+-----------+-----------+-----------+-----------+------------+----------------------+\n",
      "|                                            |         m |         p |         h |         T |          x | phase                |\n",
      "|--------------------------------------------+-----------+-----------+-----------+-----------+------------+----------------------|\n",
      "| compressor:out1_hydrogen sink:in1          | 7.461e-02 | \u001b[94m2.500e+01\u001b[0m | 5.951e+06 | 1.637e+02 | -1.000e+00 | state not recognised |\n",
      "| cooling water source:out1_electrolyzer:in1 | 2.057e+01 | \u001b[94m5.000e+00\u001b[0m | 6.346e+04 | \u001b[94m1.500e+01\u001b[0m |  0.000e+00 | l                    |\n",
      "| electrolyzer:out1_cooling water sink:in1   | 2.057e+01 | 4.950e+00 | 1.889e+05 | \u001b[94m4.500e+01\u001b[0m |  0.000e+00 | l                    |\n",
      "| electrolyzer:out2_oxygen sink:in1          | 5.922e-01 | 1.000e+01 | 2.922e+05 | 5.000e+01 | -1.000e+00 | state not recognised |\n",
      "| electrolyzer:out3_compressor:in1           | 7.461e-02 | 1.000e+01 | 4.295e+06 | \u001b[94m5.000e+01\u001b[0m | -1.000e+00 | state not recognised |\n",
      "| feed water:out1_electrolyzer:in2           | 6.668e-01 | \u001b[94m1.000e+01\u001b[0m | 6.394e+04 | \u001b[94m1.500e+01\u001b[0m |  0.000e+00 | l                    |\n",
      "+--------------------------------------------+-----------+-----------+-----------+-----------+------------+----------------------+\n"
     ]
    }
   ],
   "source": [
    "nw.solve('design')\n",
    "nw.print_results()"
   ]
  },
  {
   "cell_type": "code",
   "execution_count": 38,
   "id": "507ea284",
   "metadata": {},
   "outputs": [],
   "source": [
    "af_acomp = Connection(air_source, 'out1', air_comp, 'in1')\n",
    "acomp_compressed = Connection(air_comp, 'out1', compressed_air, 'in1')"
   ]
  },
  {
   "cell_type": "code",
   "execution_count": 39,
   "id": "f1862077",
   "metadata": {},
   "outputs": [],
   "source": [
    "air_comp.set_attr(eta_s=0.85, design=['eta_s'], offdesign=['eta_s_char'])\n",
    "af_acomp.set_attr(p=1, T=15, m = 0.5, fluid={'N2': 0.78, 'O2': 0.21, 'Ar': 0.01})\n",
    "acomp_compressed.set_attr(p=25)\n",
    "\n",
    "nw.add_conns(af_acomp, acomp_compressed)"
   ]
  },
  {
   "cell_type": "code",
   "execution_count": 40,
   "id": "2474538d",
   "metadata": {},
   "outputs": [
    {
     "name": "stdout",
     "output_type": "stream",
     "text": [
      "\n",
      "##### RESULTS (Compressor) #####\n",
      "+----------------+----------+----------+-----------+----------+--------+\n",
      "|                |        P |       pr |        dp |    eta_s |   igva |\n",
      "|----------------+----------+----------+-----------+----------+--------|\n",
      "| compressor     | 1.24e+05 | 2.50e+00 | -1.50e+01 | \u001b[94m8.50e-01\u001b[0m |    nan |\n",
      "| air compressor | 2.57e+05 | 2.50e+01 | -2.40e+01 | \u001b[94m8.50e-01\u001b[0m |    nan |\n",
      "+----------------+----------+----------+-----------+----------+--------+\n",
      "##### RESULTS (WaterElectrolyzer) #####\n",
      "+--------------+----------+-----------+----------+----------+----------+----------+----------+\n",
      "|              |        P |         Q |       pr |       dp |     zeta |      eta |        e |\n",
      "|--------------+----------+-----------+----------+----------+----------+----------+----------|\n",
      "| electrolyzer | \u001b[32m1.32e+07\u001b[0m | -2.58e+06 | \u001b[94m9.90e-01\u001b[0m | 5.00e-02 | 1.45e+04 | \u001b[94m8.00e-01\u001b[0m | 1.77e+08 |\n",
      "+--------------+----------+-----------+----------+----------+----------+----------+----------+\n",
      "##### RESULTS (Connection) #####\n",
      "+---------------------------------------------+-----------+-----------+-----------+-----------+------------+----------------------+\n",
      "|                                             |         m |         p |         h |         T |          x | phase                |\n",
      "|---------------------------------------------+-----------+-----------+-----------+-----------+------------+----------------------|\n",
      "| air compressor:out1_compressed air sink:in1 | 5.000e-01 | \u001b[94m2.500e+01\u001b[0m | 8.035e+05 | 5.063e+02 |  0.000e+00 | nan                  |\n",
      "| air source:out1_air compressor:in1          | \u001b[94m5.000e-01\u001b[0m | \u001b[94m1.000e+00\u001b[0m | 2.897e+05 | \u001b[94m1.500e+01\u001b[0m |  0.000e+00 | nan                  |\n",
      "| compressor:out1_hydrogen sink:in1           | 7.461e-02 | \u001b[94m2.500e+01\u001b[0m | 5.951e+06 | 1.637e+02 | -1.000e+00 | state not recognised |\n",
      "| cooling water source:out1_electrolyzer:in1  | 2.057e+01 | \u001b[94m5.000e+00\u001b[0m | 6.346e+04 | \u001b[94m1.500e+01\u001b[0m |  0.000e+00 | l                    |\n",
      "| electrolyzer:out1_cooling water sink:in1    | 2.057e+01 | 4.950e+00 | 1.889e+05 | \u001b[94m4.500e+01\u001b[0m |  0.000e+00 | l                    |\n",
      "| electrolyzer:out2_oxygen sink:in1           | 5.922e-01 | 1.000e+01 | 2.922e+05 | 5.000e+01 | -1.000e+00 | state not recognised |\n",
      "| electrolyzer:out3_compressor:in1            | 7.461e-02 | 1.000e+01 | 4.295e+06 | \u001b[94m5.000e+01\u001b[0m | -1.000e+00 | state not recognised |\n",
      "| feed water:out1_electrolyzer:in2            | 6.668e-01 | \u001b[94m1.000e+01\u001b[0m | 6.394e+04 | \u001b[94m1.500e+01\u001b[0m |  0.000e+00 | l                    |\n",
      "+---------------------------------------------+-----------+-----------+-----------+-----------+------------+----------------------+\n"
     ]
    }
   ],
   "source": [
    "nw.solve('design')\n",
    "nw.print_results()"
   ]
  },
  {
   "cell_type": "code",
   "execution_count": 41,
   "id": "b97d2fb5",
   "metadata": {},
   "outputs": [],
   "source": [
    "nw = Network(T_unit='C', p_unit='bar', v_unit='l / s', iterinfo=False)"
   ]
  },
  {
   "cell_type": "code",
   "execution_count": 42,
   "id": "0c33d46f",
   "metadata": {},
   "outputs": [],
   "source": [
    "fw = Source('feed water')\n",
    "oxy = Sink('oxygen sink')\n",
    "hydro = Sink('hydrogen sink')\n",
    "cw_cold = Source('cooling water source')\n",
    "cw_hot = Sink('cooling water sink')\n",
    "air_source = Source('air source')\n",
    "compressed_air = Sink('compressed air sink')\n",
    "cc = CombustionChamber('combustion chamber')\n",
    "cc_out = Sink('combustion chamber out')"
   ]
  },
  {
   "cell_type": "code",
   "execution_count": 43,
   "id": "23e03880",
   "metadata": {},
   "outputs": [],
   "source": [
    "fw_el = Connection(fw, 'out1', el, 'in2')\n",
    "el_o = Connection(el, 'out2', oxy, 'in1')\n",
    "el_cmp = Connection(el, 'out3', comp, 'in1')\n",
    "cmp_cc = Connection(comp, 'out1', cc, 'in1')\n",
    "cw_el = Connection(cw_cold, 'out1', el, 'in1')\n",
    "el_cw = Connection(el, 'out1', cw_hot, 'in1')\n",
    "af_acomp = Connection(air_source, 'out1', air_comp, 'in1')\n",
    "acomp_cc = Connection(air_comp, 'out1', cc, 'in2')\n",
    "cc_HPT = Connection(cc, 'out1', cc_out, 'in1')\n",
    "\n",
    "nw.add_conns(fw_el, el_o, el_cmp, cmp_cc, cw_el, el_cw, af_acomp, acomp_cc, cc_HPT)"
   ]
  },
  {
   "cell_type": "code",
   "execution_count": null,
   "id": "c0429c8a",
   "metadata": {},
   "outputs": [],
   "source": [
    "fw_el.set_attr(p=10, T=15)\n",
    "cw_el.set_attr(p=5, T=15, fluid={'H2O': 1})\n",
    "el_cw.set_attr(T=45)\n",
    "cmp_cc.set_attr(p=25)\n",
    "el_cmp.set_attr()\n",
    "el.set_attr(eta=0.8, pr=0.99, design=['eta', 'pr'], e =1.77e+08,\n",
    "offdesign=['eta_char', 'zeta'])\n",
    "comp.set_attr(eta_s=0.85, P =1.24e+05)\n",
    "\n",
    "air_comp.set_attr(eta_s=0.85, design=['eta_s'], offdesign=['eta_s_char'])\n",
    "af_acomp.set_attr(p=1, T=15, m = 0.5, fluid={'N2': 0.78, 'O2': 0.21, 'Ar': 0.01})\n",
    "acomp_cc.set_attr()\n",
    "\n",
    "\n",
    "cc.set_attr(ti = 1891200)\n",
    "cc_HPT.set_attr()\n"
   ]
  },
  {
   "cell_type": "code",
   "execution_count": 45,
   "id": "c2fe6e77",
   "metadata": {},
   "outputs": [
    {
     "name": "stderr",
     "output_type": "stream",
     "text": [
      "You have not provided enough parameters: 23 required, 18 supplied. Aborting calculation!\n"
     ]
    },
    {
     "ename": "TESPyNetworkError",
     "evalue": "You have not provided enough parameters: 23 required, 18 supplied. Aborting calculation!",
     "output_type": "error",
     "traceback": [
      "\u001b[31m---------------------------------------------------------------------------\u001b[39m",
      "\u001b[31mTESPyNetworkError\u001b[39m                         Traceback (most recent call last)",
      "\u001b[36mCell\u001b[39m\u001b[36m \u001b[39m\u001b[32mIn[45]\u001b[39m\u001b[32m, line 1\u001b[39m\n\u001b[32m----> \u001b[39m\u001b[32m1\u001b[39m \u001b[43mnw\u001b[49m\u001b[43m.\u001b[49m\u001b[43msolve\u001b[49m\u001b[43m(\u001b[49m\u001b[33;43m'\u001b[39;49m\u001b[33;43mdesign\u001b[39;49m\u001b[33;43m'\u001b[39;49m\u001b[43m)\u001b[49m\n\u001b[32m      2\u001b[39m nw.print_results()\n",
      "\u001b[36mFile \u001b[39m\u001b[32mc:\\Users\\PAUL\\miniconda3\\envs\\simlab-env\\Lib\\site-packages\\tespy\\networks\\network.py:2493\u001b[39m, in \u001b[36mNetwork.solve\u001b[39m\u001b[34m(self, mode, init_path, design_path, max_iter, min_iter, init_only, init_previous, use_cuda, print_results, robust_relax)\u001b[39m\n\u001b[32m   2490\u001b[39m msg = \u001b[33m'\u001b[39m\u001b[33mStarting solver.\u001b[39m\u001b[33m'\u001b[39m\n\u001b[32m   2491\u001b[39m logger.info(msg)\n\u001b[32m-> \u001b[39m\u001b[32m2493\u001b[39m \u001b[38;5;28;43mself\u001b[39;49m\u001b[43m.\u001b[49m\u001b[43msolve_determination\u001b[49m\u001b[43m(\u001b[49m\u001b[43m)\u001b[49m\n\u001b[32m   2495\u001b[39m \u001b[38;5;28;01mtry\u001b[39;00m:\n\u001b[32m   2496\u001b[39m     \u001b[38;5;28mself\u001b[39m.solve_loop(print_results=print_results)\n",
      "\u001b[36mFile \u001b[39m\u001b[32mc:\\Users\\PAUL\\miniconda3\\envs\\simlab-env\\Lib\\site-packages\\tespy\\networks\\network.py:2616\u001b[39m, in \u001b[36mNetwork.solve_determination\u001b[39m\u001b[34m(self)\u001b[39m\n\u001b[32m   2614\u001b[39m logger.error(msg)\n\u001b[32m   2615\u001b[39m \u001b[38;5;28mself\u001b[39m.status = \u001b[32m11\u001b[39m\n\u001b[32m-> \u001b[39m\u001b[32m2616\u001b[39m \u001b[38;5;28;01mraise\u001b[39;00m hlp.TESPyNetworkError(msg)\n",
      "\u001b[31mTESPyNetworkError\u001b[39m: You have not provided enough parameters: 23 required, 18 supplied. Aborting calculation!"
     ]
    }
   ],
   "source": [
    "nw.solve('design')\n",
    "nw.print_results()"
   ]
  }
 ],
 "metadata": {
  "kernelspec": {
   "display_name": "simlab-env",
   "language": "python",
   "name": "python3"
  },
  "language_info": {
   "codemirror_mode": {
    "name": "ipython",
    "version": 3
   },
   "file_extension": ".py",
   "mimetype": "text/x-python",
   "name": "python",
   "nbconvert_exporter": "python",
   "pygments_lexer": "ipython3",
   "version": "3.13.3"
  }
 },
 "nbformat": 4,
 "nbformat_minor": 5
}
